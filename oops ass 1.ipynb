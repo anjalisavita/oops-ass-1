{
 "cells": [
  {
   "cell_type": "markdown",
   "id": "99232e35-cf18-4720-ae77-7cab354a5eb9",
   "metadata": {},
   "source": [
    "# Q1. Explain Class and Object with respect to Object-Oriented Programming. Give a suitable example.\n"
   ]
  },
  {
   "cell_type": "markdown",
   "id": "8da5422f-5107-4d04-9b21-79861636f81a",
   "metadata": {},
   "source": [
    "# ANSWER-1  Class and Object in OOP\n",
    "Class: A class is a blueprint or a template that defines the properties (attributes) and behaviors (methods) that objects of the class will have.\n",
    "Object: An object is an instance of a class. It's a concrete entity created based on the blueprint defined by the class.\n",
    "Example:\n",
    "Consider a class Car:"
   ]
  },
  {
   "cell_type": "code",
   "execution_count": 7,
   "id": "e5af931a-a1e8-4351-b35b-33f90271caec",
   "metadata": {},
   "outputs": [],
   "source": [
    "class Car:\n",
    "    def __init__(self, make, model):\n",
    "        self.make = make\n",
    "        self.model = model\n",
    "\n",
    "    def display_info(self):\n",
    "        return f\"{self.make} {self.model}\"\n"
   ]
  },
  {
   "cell_type": "markdown",
   "id": "18f49690-29a8-42e4-bcd0-a47a186820d1",
   "metadata": {},
   "source": [
    "# Creating objects of the class Car:"
   ]
  },
  {
   "cell_type": "code",
   "execution_count": 9,
   "id": "780039d6-6f95-48f8-b86c-f99aa7dcd07d",
   "metadata": {},
   "outputs": [
    {
     "name": "stdout",
     "output_type": "stream",
     "text": [
      "Toyota Corolla\n",
      "Tesla Model S\n"
     ]
    }
   ],
   "source": [
    "car1 = Car(\"Toyota\", \"Corolla\")\n",
    "car2 = Car(\"Tesla\", \"Model S\")\n",
    "\n",
    "print(car1.display_info())  # Output: Toyota Corolla\n",
    "print(car2.display_info())  # Output: Tesla Model S\n"
   ]
  },
  {
   "cell_type": "markdown",
   "id": "084c9cd2-d81c-4bda-865d-7074b87ff705",
   "metadata": {},
   "source": [
    "# Here, Car is a class defining the blueprint for cars, and car1 and car2 are objects (instances) created based on this blueprint."
   ]
  },
  {
   "cell_type": "markdown",
   "id": "a99e252b-276f-4728-b2b4-55b951de27ea",
   "metadata": {},
   "source": [
    "# Q2. Name the four pillars of OOPs."
   ]
  },
  {
   "cell_type": "markdown",
   "id": "d27e011f-d7ee-4b04-9807-4a04ffdbbae0",
   "metadata": {},
   "source": [
    "# The four pillars of object-oriented programming are:\n",
    "\n",
    "# Encapsulation: Bundling data (attributes) and methods that operate on the data into a single unit (class). It helps in hiding the implementation details and providing a clear interface.\n",
    "# Abstraction: Showing only essential features of an object and hiding the unnecessary details.\n",
    "# Inheritance: A mechanism where a new class inherits properties and behavior from an existing class.\n",
    "# Polymorphism: The ability of different classes to be treated as objects of a common superclass. It allows objects of different classes to be used interchangeably if they have a common interface."
   ]
  },
  {
   "cell_type": "markdown",
   "id": "b69a26ce-0053-4e6d-9c96-826cbc9d8e20",
   "metadata": {},
   "source": [
    "# Q3. Explain why the __init__() function is used. Give a suitable example."
   ]
  },
  {
   "cell_type": "markdown",
   "id": "7ac33f63-b60e-41bb-acce-25d8f2d7d988",
   "metadata": {},
   "source": [
    "# The __init__() function is a special method in Python classes used to initialize the object's attributes when an object is created. It gets called automatically when an object is instantiated from the class.\n",
    "\n",
    "# Example:\n",
    "# In the Car class example mentioned earlier, __init__() initializes the make and model attributes of each car object."
   ]
  },
  {
   "cell_type": "markdown",
   "id": "989fa69d-cbb2-4a98-8dc7-c0ec57288838",
   "metadata": {},
   "source": [
    "# Q5. What is inheritance? Give an example for each type of inheritance.\n",
    "\n"
   ]
  },
  {
   "cell_type": "markdown",
   "id": "2678cbb5-1d48-4b13-9fdb-d0f7f7b7858b",
   "metadata": {},
   "source": [
    "# Inheritance is a mechanism in OOP that allows a new class (called a derived or child class) to inherit properties and behavior from an existing class (called a base or parent class).\n",
    "\n",
    "# Example Types of Inheritance:\n",
    "\n",
    "# Single Inheritance:"
   ]
  },
  {
   "cell_type": "code",
   "execution_count": 10,
   "id": "c17b62eb-842e-4074-9eab-87ee577b51ac",
   "metadata": {},
   "outputs": [],
   "source": [
    "class Vehicle:\n",
    "    def start_engine(self):\n",
    "        return \"Engine started\"\n",
    "\n",
    "\n",
    "class Car(Vehicle):\n",
    "    def drive(self):\n",
    "        return \"Car is being driven\"\n"
   ]
  },
  {
   "cell_type": "markdown",
   "id": "66bd4da6-a92b-43f6-bad7-b10ee891510a",
   "metadata": {},
   "source": [
    "# Multiple Inheritance:"
   ]
  },
  {
   "cell_type": "code",
   "execution_count": 11,
   "id": "3225cc03-f028-4d5e-b8c8-dfff31895e91",
   "metadata": {},
   "outputs": [],
   "source": [
    "class A:\n",
    "    def method_A(self):\n",
    "        return \"Method A from class A\"\n",
    "\n",
    "\n",
    "class B:\n",
    "    def method_B(self):\n",
    "        return \"Method B from class B\"\n",
    "\n",
    "\n",
    "class C(A, B):\n",
    "    def method_C(self):\n",
    "        return \"Method C from class C\"\n"
   ]
  },
  {
   "cell_type": "markdown",
   "id": "d79a1475-02b2-4cfe-88b8-4a62b53e9fec",
   "metadata": {},
   "source": [
    "# Multilevel Inheritance:"
   ]
  },
  {
   "cell_type": "code",
   "execution_count": 12,
   "id": "851319c0-0ef7-4c98-a36a-c141c754525b",
   "metadata": {},
   "outputs": [],
   "source": [
    "class A:\n",
    "    def method_A(self):\n",
    "        return \"Method A from class A\"\n",
    "\n",
    "\n",
    "class B(A):\n",
    "    def method_B(self):\n",
    "        return \"Method B from class B\"\n",
    "\n",
    "\n",
    "class C(B):\n",
    "    def method_C(self):\n",
    "        return \"Method C from class C\"\n"
   ]
  },
  {
   "cell_type": "code",
   "execution_count": null,
   "id": "3c71b7e0-f63f-4997-b9bf-c804ab827002",
   "metadata": {},
   "outputs": [],
   "source": [
    "#These examples demonstrate different types of inheritance relationships between classes in Python."
   ]
  }
 ],
 "metadata": {
  "kernelspec": {
   "display_name": "Python 3 (ipykernel)",
   "language": "python",
   "name": "python3"
  },
  "language_info": {
   "codemirror_mode": {
    "name": "ipython",
    "version": 3
   },
   "file_extension": ".py",
   "mimetype": "text/x-python",
   "name": "python",
   "nbconvert_exporter": "python",
   "pygments_lexer": "ipython3",
   "version": "3.10.8"
  }
 },
 "nbformat": 4,
 "nbformat_minor": 5
}
